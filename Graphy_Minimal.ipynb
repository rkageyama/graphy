{
 "cells": [
  {
   "cell_type": "code",
   "execution_count": 6,
   "metadata": {},
   "outputs": [
    {
     "name": "stdout",
     "output_type": "stream",
     "text": [
      "The autoreload extension is already loaded. To reload it, use:\n",
      "  %reload_ext autoreload\n"
     ]
    },
    {
     "data": {
      "application/vnd.jupyter.widget-view+json": {
       "model_id": "2dc76d64089f4c01ad2c7c783193f18d"
      }
     },
     "metadata": {},
     "output_type": "display_data"
    },
    {
     "data": {
      "application/vnd.jupyter.widget-view+json": {
       "model_id": "32f0b6a57d6c46228239703809ee1f38"
      }
     },
     "metadata": {},
     "output_type": "display_data"
    },
    {
     "data": {
      "application/vnd.jupyter.widget-view+json": {
       "model_id": "b47b3646dc544aab98202dfa59d6ab72"
      }
     },
     "metadata": {},
     "output_type": "display_data"
    },
    {
     "data": {
      "application/vnd.jupyter.widget-view+json": {
       "model_id": "9752f51e64fd4eeba2d32d695d8c0e9b"
      }
     },
     "metadata": {},
     "output_type": "display_data"
    },
    {
     "data": {
      "application/vnd.jupyter.widget-view+json": {
       "model_id": "c05bf904b96442a4b0f545e2f8b1e020"
      }
     },
     "metadata": {},
     "output_type": "display_data"
    },
    {
     "data": {
      "application/vnd.jupyter.widget-view+json": {
       "model_id": "3402fd0ec99a4cbc9a2906ed41177ce1"
      }
     },
     "metadata": {},
     "output_type": "display_data"
    },
    {
     "data": {
      "application/vnd.jupyter.widget-view+json": {
       "model_id": "6fcdb84121244f08bb795377ed4f27fb"
      }
     },
     "metadata": {},
     "output_type": "display_data"
    },
    {
     "data": {
      "application/vnd.jupyter.widget-view+json": {
       "model_id": "1fe4cb5c80c842f7a28d3088374daa83"
      }
     },
     "metadata": {},
     "output_type": "display_data"
    },
    {
     "data": {
      "application/vnd.jupyter.widget-view+json": {
       "model_id": "2d726fd3fbf24e7b9f81e0dc3b30f9d2"
      }
     },
     "metadata": {},
     "output_type": "display_data"
    },
    {
     "data": {
      "application/vnd.jupyter.widget-view+json": {
       "model_id": "8452a95f094744bab188c99952ed59ff"
      }
     },
     "metadata": {},
     "output_type": "display_data"
    },
    {
     "data": {
      "application/vnd.jupyter.widget-view+json": {
       "model_id": "bd8825d9e4354253bea0d42cc98d0839"
      }
     },
     "metadata": {},
     "output_type": "display_data"
    },
    {
     "data": {
      "application/vnd.jupyter.widget-view+json": {
       "model_id": "5a83b29cffbe4ded8484a2c84f4b6604"
      }
     },
     "metadata": {},
     "output_type": "display_data"
    },
    {
     "data": {
      "application/vnd.jupyter.widget-view+json": {
       "model_id": "404f4848e96444d791379930e9f79389"
      }
     },
     "metadata": {},
     "output_type": "display_data"
    },
    {
     "data": {
      "application/vnd.jupyter.widget-view+json": {
       "model_id": "635c1a58e9ae470bba4da93452c4b9c2"
      }
     },
     "metadata": {},
     "output_type": "display_data"
    },
    {
     "data": {
      "application/vnd.jupyter.widget-view+json": {
       "model_id": "7629d8948202405da5600b49f6dd2368"
      }
     },
     "metadata": {},
     "output_type": "display_data"
    },
    {
     "data": {
      "application/vnd.jupyter.widget-view+json": {
       "model_id": "af88ad6d548b49e99c4c8b3682d523b0"
      }
     },
     "metadata": {},
     "output_type": "display_data"
    },
    {
     "data": {
      "application/vnd.jupyter.widget-view+json": {
       "model_id": "425a343baa534c46adcb45ac6952b6ec"
      }
     },
     "metadata": {},
     "output_type": "display_data"
    },
    {
     "data": {
      "application/vnd.jupyter.widget-view+json": {
       "model_id": "72bece3fc05b4c89851f1c4f5f40edbd"
      }
     },
     "metadata": {},
     "output_type": "display_data"
    },
    {
     "data": {
      "application/vnd.jupyter.widget-view+json": {
       "model_id": "adf3cacbf1774d72a553caeaf3f3fef7"
      }
     },
     "metadata": {},
     "output_type": "display_data"
    },
    {
     "data": {
      "application/vnd.jupyter.widget-view+json": {
       "model_id": "62e6ae219205473586ee6f100651abe0"
      }
     },
     "metadata": {},
     "output_type": "display_data"
    }
   ],
   "source": [
    "from matplotlib import pyplot as plt\n",
    "%matplotlib inline\n",
    "%load_ext autoreload\n",
    "%autoreload 2\n",
    "%run graphy_v2.py  \n"
   ]
  },
  {
   "cell_type": "code",
   "execution_count": 19,
   "metadata": {},
   "outputs": [
    {
     "data": {
      "text/plain": [
       "[u'/Users/DarthRNA/Documents/Robin/GRAPHY_TEST/miR29_WT_Th2.bam']"
      ]
     },
     "execution_count": 19,
     "metadata": {},
     "output_type": "execute_result"
    }
   ],
   "source": [
    "track_names = [f for f in w_antisense_check.options if f.split(\".\")[-1]==\"bam\"]\n",
    "track_files = [w_default_folder.value + f for f in track_names]\n",
    "\n",
    "track_files"
   ]
  },
  {
   "cell_type": "code",
   "execution_count": 20,
   "metadata": {},
   "outputs": [
    {
     "ename": "ImportError",
     "evalue": "No module named pysam",
     "output_type": "error",
     "traceback": [
      "\u001b[0;31m---------------------------------------------------------------------------\u001b[0m",
      "\u001b[0;31mImportError\u001b[0m                               Traceback (most recent call last)",
      "\u001b[0;32m<ipython-input-20-ff53691402cb>\u001b[0m in \u001b[0;36m<module>\u001b[0;34m()\u001b[0m\n\u001b[0;32m----> 1\u001b[0;31m \u001b[0;32mimport\u001b[0m \u001b[0mpysam\u001b[0m\u001b[0;34m\u001b[0m\u001b[0m\n\u001b[0m\u001b[1;32m      2\u001b[0m \u001b[0msamfile\u001b[0m \u001b[0;34m=\u001b[0m \u001b[0mpysam\u001b[0m\u001b[0;34m.\u001b[0m\u001b[0mAlignmentFile\u001b[0m\u001b[0;34m(\u001b[0m\u001b[0;34m'/Users/DarthRNA/Documents/Robin/GRAPHY_TEST/miR29_WT_Th2.bam'\u001b[0m\u001b[0;34m,\u001b[0m \u001b[0;34m\"rb\"\u001b[0m\u001b[0;34m)\u001b[0m\u001b[0;34m\u001b[0m\u001b[0m\n",
      "\u001b[0;31mImportError\u001b[0m: No module named pysam"
     ]
    }
   ],
   "source": [
    "import pysam\n",
    "samfile = pysam.AlignmentFile('/Users/DarthRNA/Documents/Robin/GRAPHY_TEST/miR29_WT_Th2.bam', \"rb\")"
   ]
  },
  {
   "cell_type": "code",
   "execution_count": 10,
   "metadata": {},
   "outputs": [
    {
     "data": {
      "text/plain": [
       "u'/Users/DarthRNA/Documents/Robin/GRAPHY_TEST/'"
      ]
     },
     "execution_count": 10,
     "metadata": {},
     "output_type": "execute_result"
    }
   ],
   "source": [
    "w_default_folder.value"
   ]
  },
  {
   "cell_type": "code",
   "execution_count": null,
   "metadata": {},
   "outputs": [],
   "source": []
  }
 ],
 "metadata": {
  "anaconda-cloud": {},
  "kernelspec": {
   "display_name": "Python 2",
   "language": "python",
   "name": "python2"
  },
  "language_info": {
   "codemirror_mode": {
    "name": "ipython",
    "version": 2
   },
   "file_extension": ".py",
   "mimetype": "text/x-python",
   "name": "python",
   "nbconvert_exporter": "python",
   "pygments_lexer": "ipython2",
   "version": "2.7.15"
  },
  "widgets": {
   "state": {
    "0cd31691757e4a8189462ae1ae0890be": {
     "views": [
      {
       "cell_index": 1
      }
     ]
    },
    "25dc9ea8041546dc8fe07b6789d18d36": {
     "views": [
      {
       "cell_index": 1
      }
     ]
    },
    "4565705712964ccc96bd37ed327e4f53": {
     "views": [
      {
       "cell_index": 1
      }
     ]
    },
    "4eec7e54ed5c47528d65d8e58b778372": {
     "views": [
      {
       "cell_index": 1
      }
     ]
    },
    "5e68ef1c77d541f796870eccbd3752c0": {
     "views": [
      {
       "cell_index": 1
      }
     ]
    },
    "6161a72cf5fc45cdab316bbb5d1f06c7": {
     "views": [
      {
       "cell_index": 1
      }
     ]
    },
    "6875321b916f4278b433301d799cb618": {
     "views": [
      {
       "cell_index": 1
      }
     ]
    },
    "7b8ec6fa2d814743b9342514b97525ee": {
     "views": [
      {
       "cell_index": 1
      }
     ]
    },
    "7ff33de8d53a452c94373a874c5d2d67": {
     "views": [
      {
       "cell_index": 1
      }
     ]
    },
    "824865f4bb8e40f2b8c175702af08024": {
     "views": [
      {
       "cell_index": 1
      }
     ]
    },
    "8bc7f351522f4d098391b52b264cc9da": {
     "views": [
      {
       "cell_index": 1
      }
     ]
    },
    "8d4fd59f5fd24c6a8bae84bd0526571a": {
     "views": [
      {
       "cell_index": 1
      }
     ]
    },
    "98d1b5d44718479885655a0f2f927bb2": {
     "views": [
      {
       "cell_index": 1
      }
     ]
    },
    "ac6ff2a7f41240c6a932caa21c1f9281": {
     "views": [
      {
       "cell_index": 1
      }
     ]
    },
    "cabedf5ff7c948008e165810e719199f": {
     "views": [
      {
       "cell_index": 1
      }
     ]
    },
    "d5f83c4420764a0287d24ed05c6737e1": {
     "views": [
      {
       "cell_index": 1
      }
     ]
    },
    "d75240249a3d42d4887e21cea0932d0b": {
     "views": [
      {
       "cell_index": 1
      }
     ]
    },
    "d9ac2d4646914aa6b6426df4aba6b961": {
     "views": [
      {
       "cell_index": 1
      }
     ]
    },
    "ec509d96b5b543869108a968fe9c14ba": {
     "views": [
      {
       "cell_index": 1
      }
     ]
    },
    "ef8d485f82864a2db68c4298cf8bede0": {
     "views": [
      {
       "cell_index": 1
      }
     ]
    }
   },
   "version": "1.2.0"
  }
 },
 "nbformat": 4,
 "nbformat_minor": 2
}
