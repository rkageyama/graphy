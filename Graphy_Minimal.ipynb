{
 "cells": [
  {
   "cell_type": "code",
   "execution_count": null,
   "metadata": {},
   "outputs": [],
   "source": []
  },
  {
   "cell_type": "code",
   "execution_count": 1,
   "metadata": {},
   "outputs": [
    {
     "data": {
      "application/vnd.jupyter.widget-view+json": {
       "model_id": "4f94f618101c4bf5b5f34205be30c757"
      }
     },
     "metadata": {},
     "output_type": "display_data"
    },
    {
     "data": {
      "application/vnd.jupyter.widget-view+json": {
       "model_id": "8fc952d5b664482f8cbbb647abae8e62"
      }
     },
     "metadata": {},
     "output_type": "display_data"
    },
    {
     "data": {
      "application/vnd.jupyter.widget-view+json": {
       "model_id": "c087fd0a55a643eebbb935dd1c968e28"
      }
     },
     "metadata": {},
     "output_type": "display_data"
    },
    {
     "data": {
      "application/vnd.jupyter.widget-view+json": {
       "model_id": "ef33cd1f34874bd9ab44f32155a56cd5"
      }
     },
     "metadata": {},
     "output_type": "display_data"
    },
    {
     "data": {
      "application/vnd.jupyter.widget-view+json": {
       "model_id": "6aea41c750b948b0a91265f6e236039c"
      }
     },
     "metadata": {},
     "output_type": "display_data"
    },
    {
     "data": {
      "application/vnd.jupyter.widget-view+json": {
       "model_id": "7d94b7bc8f4c4d56a3b8ae1229f8739b"
      }
     },
     "metadata": {},
     "output_type": "display_data"
    },
    {
     "data": {
      "application/vnd.jupyter.widget-view+json": {
       "model_id": "fe77d43eb7784c4eab034a03aee033aa"
      }
     },
     "metadata": {},
     "output_type": "display_data"
    },
    {
     "data": {
      "application/vnd.jupyter.widget-view+json": {
       "model_id": "565148f853384251ad7979c5aeb22cf7"
      }
     },
     "metadata": {},
     "output_type": "display_data"
    },
    {
     "data": {
      "application/vnd.jupyter.widget-view+json": {
       "model_id": "33cac278044140aabae5ca0855e3ccda"
      }
     },
     "metadata": {},
     "output_type": "display_data"
    },
    {
     "data": {
      "application/vnd.jupyter.widget-view+json": {
       "model_id": "1f5abc45f95f42d19ebf46c9757abc2d"
      }
     },
     "metadata": {},
     "output_type": "display_data"
    },
    {
     "data": {
      "application/vnd.jupyter.widget-view+json": {
       "model_id": "02a41a7aa7794d0aac5c13c81bb320e9"
      }
     },
     "metadata": {},
     "output_type": "display_data"
    },
    {
     "data": {
      "application/vnd.jupyter.widget-view+json": {
       "model_id": "66d72c432bd642c4b5668f5738adad1b"
      }
     },
     "metadata": {},
     "output_type": "display_data"
    },
    {
     "data": {
      "application/vnd.jupyter.widget-view+json": {
       "model_id": "265a3af200394b8d896d055c667243f9"
      }
     },
     "metadata": {},
     "output_type": "display_data"
    },
    {
     "data": {
      "application/vnd.jupyter.widget-view+json": {
       "model_id": "e2df4764704a430984b8b2b111307a01"
      }
     },
     "metadata": {},
     "output_type": "display_data"
    },
    {
     "data": {
      "application/vnd.jupyter.widget-view+json": {
       "model_id": "219a2584100d42118c6b5242397d83dc"
      }
     },
     "metadata": {},
     "output_type": "display_data"
    },
    {
     "data": {
      "application/vnd.jupyter.widget-view+json": {
       "model_id": "d5823fd11c4a48faa131879af51a8e28"
      }
     },
     "metadata": {},
     "output_type": "display_data"
    },
    {
     "data": {
      "application/vnd.jupyter.widget-view+json": {
       "model_id": "f1a28a89886845489dc2fdf5c8821bdc"
      }
     },
     "metadata": {},
     "output_type": "display_data"
    },
    {
     "data": {
      "application/vnd.jupyter.widget-view+json": {
       "model_id": "08110c437f024921988c3dcd8edde0e6"
      }
     },
     "metadata": {},
     "output_type": "display_data"
    },
    {
     "data": {
      "application/vnd.jupyter.widget-view+json": {
       "model_id": "9be1c341b4584701b1f2559c1366f620"
      }
     },
     "metadata": {},
     "output_type": "display_data"
    },
    {
     "data": {
      "application/vnd.jupyter.widget-view+json": {
       "model_id": "defeb27fbd4245ce903020b6a927c5cc"
      }
     },
     "metadata": {},
     "output_type": "display_data"
    },
    {
     "name": "stdout",
     "output_type": "stream",
     "text": [
      "[]\n",
      "[]\n",
      "[]\n",
      "[u'NM_001282992', u'NM_008787']\n"
     ]
    }
   ],
   "source": [
    "from matplotlib import pyplot as plt\n",
    "%matplotlib inline\n",
    "%load_ext autoreload\n",
    "%autoreload 2\n",
    "%run graphy_v2.py  \n"
   ]
  },
  {
   "cell_type": "code",
   "execution_count": null,
   "metadata": {},
   "outputs": [],
   "source": []
  },
  {
   "cell_type": "code",
   "execution_count": 2,
   "metadata": {
    "collapsed": true
   },
   "outputs": [],
   "source": [
    " import pandas as pd\n",
    "# import numpy as np\n",
    "# from matplotlib import pyplot as plt\n",
    "# from matplotlib import gridspec\n",
    "# from matplotlib.patches import Rectangle\n",
    "# from matplotlib import rc\n",
    "# import matplotlib.patches as mpatches\n",
    "# import subprocess\n",
    "# from operator import itemgetter\n",
    "#import seaborn as sns\n",
    "import itertools\n",
    "import sys\n",
    "import os\n",
    "import spectra\n",
    "if sys.version_info[0] < 3: \n",
    "    from StringIO import StringIO\n",
    "else:\n",
    "    from io import StringIO\n",
    "sys.path.insert(0,'/Users/DarthRNA/Documents/Robin/PythonModules')\n",
    "sys.path.insert(0,'/Users/DarthRNA/Documents/Robin/HitsSummary')\n",
    "import clip_tools as ct\n",
    "from functions import *\n",
    "from defaults import *\n",
    "\n",
    "from ipywidgets import interact\n",
    "import ipywidgets as widgets\n",
    "from IPython.display import display\n",
    "from ipywidgets import FloatSlider\n",
    "from IPython.display import clear_output\n",
    "\n",
    "\n",
    "updates = \"\\\n",
    "3/23/17: Now the tracks are displayed in the order they were selected! <p> \\\n",
    "4/11/17: Added custom section to bedfiles. Covers custom bedfiles, including custom miRNA tracks <p> \\\n",
    "4/27/17: Updated LeftToRight button\\\n",
    "\"\n",
    "\n",
    "###################################################\n",
    "\n",
    "\n",
    "# Required: Reference. \n",
    "# file_utr3 is used in finding the names of genes, \n",
    "#    though a bed of entire gene transcripts might be more useful (and should work)\n",
    "# file_refseq is used to graph the refseq track. \n",
    "\n",
    "# file_utr3 = \"/Users/DarthRNA/Documents/Robin/genomes/refseq_3utr.bed\"\n",
    "# file_refseq = \"/Users/DarthRNA/Documents/Robin/genomes/refseq_names.txt\"\n",
    "# file_targetscan = \"/Users/DarthRNA/Documents/Robin/genomes/Targetscan.bed\"\n",
    "# file_refgenebed = '/Users/DarthRNA/Documents/Robin/genomes/refGene.bed'\n",
    "# default_track_folder = \"/Users/DarthRNA/Documents/Robin/GRAPHY_TEST/\"\n",
    "\n",
    "\n",
    "bedfiles_allowed = {\"Peaks\":{\"name\":\"Peaks\",\n",
    "                             \"bedfile\":\"/Users/DarthRNA/Documents/Robin/FASTUTR/peaks.bed\",\n",
    "                             \"bedtype\":\"bed\"},\n",
    "                    \"Targetscan\":{\"name\":\"Targetscan\",\n",
    "                                  \"bedfile\":file_targetscan,\n",
    "                                  \"bedtype\":\"targetscan\"}}\n",
    "\n",
    "\n",
    "\n",
    "### Lookup 3'UTR by Refseq\n",
    "df_refseq_3utr = pd.read_table(\"/Users/DarthRNA/Documents/Robin/genomes/mm10_refseq_3utr.bed\",names=['chrom','start','stop','name','score','strand'])"
   ]
  },
  {
   "cell_type": "code",
   "execution_count": 3,
   "metadata": {},
   "outputs": [
    {
     "data": {
      "text/html": [
       "<div>\n",
       "<style scoped>\n",
       "    .dataframe tbody tr th:only-of-type {\n",
       "        vertical-align: middle;\n",
       "    }\n",
       "\n",
       "    .dataframe tbody tr th {\n",
       "        vertical-align: top;\n",
       "    }\n",
       "\n",
       "    .dataframe thead th {\n",
       "        text-align: right;\n",
       "    }\n",
       "</style>\n",
       "<table border=\"1\" class=\"dataframe\">\n",
       "  <thead>\n",
       "    <tr style=\"text-align: right;\">\n",
       "      <th></th>\n",
       "      <th>chrom</th>\n",
       "      <th>start</th>\n",
       "      <th>stop</th>\n",
       "      <th>name</th>\n",
       "      <th>score</th>\n",
       "      <th>strand</th>\n",
       "    </tr>\n",
       "  </thead>\n",
       "  <tbody>\n",
       "    <tr>\n",
       "      <th>0</th>\n",
       "      <td>chr1</td>\n",
       "      <td>134199214</td>\n",
       "      <td>134202950</td>\n",
       "      <td>NM_001282945_utr3_0_0_chr1_134199215_r</td>\n",
       "      <td>0</td>\n",
       "      <td>-</td>\n",
       "    </tr>\n",
       "    <tr>\n",
       "      <th>1</th>\n",
       "      <td>chr1</td>\n",
       "      <td>134199214</td>\n",
       "      <td>134202950</td>\n",
       "      <td>NM_001039510_utr3_0_0_chr1_134199215_r</td>\n",
       "      <td>0</td>\n",
       "      <td>-</td>\n",
       "    </tr>\n",
       "    <tr>\n",
       "      <th>2</th>\n",
       "      <td>chr1</td>\n",
       "      <td>134199214</td>\n",
       "      <td>134202950</td>\n",
       "      <td>NM_001291930_utr3_0_0_chr1_134199215_r</td>\n",
       "      <td>0</td>\n",
       "      <td>-</td>\n",
       "    </tr>\n",
       "    <tr>\n",
       "      <th>3</th>\n",
       "      <td>chr1</td>\n",
       "      <td>134199214</td>\n",
       "      <td>134202950</td>\n",
       "      <td>NM_001291928_utr3_0_0_chr1_134199215_r</td>\n",
       "      <td>0</td>\n",
       "      <td>-</td>\n",
       "    </tr>\n",
       "    <tr>\n",
       "      <th>4</th>\n",
       "      <td>chr1</td>\n",
       "      <td>134199214</td>\n",
       "      <td>134202950</td>\n",
       "      <td>NM_001008533_utr3_0_0_chr1_134199215_r</td>\n",
       "      <td>0</td>\n",
       "      <td>-</td>\n",
       "    </tr>\n",
       "    <tr>\n",
       "      <th>5</th>\n",
       "      <td>chr1</td>\n",
       "      <td>8359738</td>\n",
       "      <td>8363474</td>\n",
       "      <td>NM_027671_utr3_0_0_chr1_8359739_r</td>\n",
       "      <td>0</td>\n",
       "      <td>-</td>\n",
       "    </tr>\n",
       "    <tr>\n",
       "      <th>6</th>\n",
       "      <td>chr1</td>\n",
       "      <td>8359738</td>\n",
       "      <td>8363474</td>\n",
       "      <td>NM_001290393_utr3_0_0_chr1_8359739_r</td>\n",
       "      <td>0</td>\n",
       "      <td>-</td>\n",
       "    </tr>\n",
       "    <tr>\n",
       "      <th>7</th>\n",
       "      <td>chr1</td>\n",
       "      <td>8359738</td>\n",
       "      <td>8363474</td>\n",
       "      <td>NM_001290392_utr3_0_0_chr1_8359739_r</td>\n",
       "      <td>0</td>\n",
       "      <td>-</td>\n",
       "    </tr>\n",
       "    <tr>\n",
       "      <th>8</th>\n",
       "      <td>chr1</td>\n",
       "      <td>8359738</td>\n",
       "      <td>8363474</td>\n",
       "      <td>NM_001290390_utr3_0_0_chr1_8359739_r</td>\n",
       "      <td>0</td>\n",
       "      <td>-</td>\n",
       "    </tr>\n",
       "    <tr>\n",
       "      <th>9</th>\n",
       "      <td>chr1</td>\n",
       "      <td>58753922</td>\n",
       "      <td>58759209</td>\n",
       "      <td>NM_001289704_utr3_9_0_chr1_58753923_f</td>\n",
       "      <td>0</td>\n",
       "      <td>+</td>\n",
       "    </tr>\n",
       "    <tr>\n",
       "      <th>10</th>\n",
       "      <td>chr1</td>\n",
       "      <td>58753922</td>\n",
       "      <td>58759209</td>\n",
       "      <td>NM_001293804_utr3_9_0_chr1_58753923_f</td>\n",
       "      <td>0</td>\n",
       "      <td>+</td>\n",
       "    </tr>\n",
       "    <tr>\n",
       "      <th>11</th>\n",
       "      <td>chr1</td>\n",
       "      <td>33453807</td>\n",
       "      <td>33454085</td>\n",
       "      <td>NM_008922_utr3_0_0_chr1_33453808_r</td>\n",
       "      <td>0</td>\n",
       "      <td>-</td>\n",
       "    </tr>\n",
       "    <tr>\n",
       "      <th>12</th>\n",
       "      <td>chr1</td>\n",
       "      <td>58732362</td>\n",
       "      <td>58733227</td>\n",
       "      <td>NM_009805_utr3_4_0_chr1_58732363_f</td>\n",
       "      <td>0</td>\n",
       "      <td>+</td>\n",
       "    </tr>\n",
       "    <tr>\n",
       "      <th>13</th>\n",
       "      <td>chr1</td>\n",
       "      <td>25067475</td>\n",
       "      <td>25068167</td>\n",
       "      <td>NM_175642_utr3_0_0_chr1_25067476_r</td>\n",
       "      <td>0</td>\n",
       "      <td>-</td>\n",
       "    </tr>\n",
       "    <tr>\n",
       "      <th>14</th>\n",
       "      <td>chr1</td>\n",
       "      <td>58753922</td>\n",
       "      <td>58759209</td>\n",
       "      <td>NM_207653_utr3_9_0_chr1_58753923_f</td>\n",
       "      <td>0</td>\n",
       "      <td>+</td>\n",
       "    </tr>\n",
       "    <tr>\n",
       "      <th>15</th>\n",
       "      <td>chr1</td>\n",
       "      <td>125872884</td>\n",
       "      <td>125873861</td>\n",
       "      <td>NM_027677_utr3_1_0_chr1_125872885_f</td>\n",
       "      <td>0</td>\n",
       "      <td>+</td>\n",
       "    </tr>\n",
       "    <tr>\n",
       "      <th>16</th>\n",
       "      <td>chr1</td>\n",
       "      <td>75485824</td>\n",
       "      <td>75485951</td>\n",
       "      <td>NM_178884_utr3_0_0_chr1_75485825_r</td>\n",
       "      <td>0</td>\n",
       "      <td>-</td>\n",
       "    </tr>\n",
       "    <tr>\n",
       "      <th>17</th>\n",
       "      <td>chr1</td>\n",
       "      <td>167846761</td>\n",
       "      <td>167848733</td>\n",
       "      <td>NM_033652_utr3_7_0_chr1_167846762_f</td>\n",
       "      <td>0</td>\n",
       "      <td>+</td>\n",
       "    </tr>\n",
       "    <tr>\n",
       "      <th>18</th>\n",
       "      <td>chr1</td>\n",
       "      <td>175962305</td>\n",
       "      <td>175963827</td>\n",
       "      <td>NM_176916_utr3_0_0_chr1_175962306_r</td>\n",
       "      <td>0</td>\n",
       "      <td>-</td>\n",
       "    </tr>\n",
       "    <tr>\n",
       "      <th>19</th>\n",
       "      <td>chr1</td>\n",
       "      <td>192891233</td>\n",
       "      <td>192897306</td>\n",
       "      <td>NM_001301370_utr3_0_0_chr1_192891234_r</td>\n",
       "      <td>0</td>\n",
       "      <td>-</td>\n",
       "    </tr>\n",
       "    <tr>\n",
       "      <th>20</th>\n",
       "      <td>chr1</td>\n",
       "      <td>175962305</td>\n",
       "      <td>175963827</td>\n",
       "      <td>NM_001195816_utr3_0_0_chr1_175962306_r</td>\n",
       "      <td>0</td>\n",
       "      <td>-</td>\n",
       "    </tr>\n",
       "    <tr>\n",
       "      <th>21</th>\n",
       "      <td>chr1</td>\n",
       "      <td>192891233</td>\n",
       "      <td>192897306</td>\n",
       "      <td>NM_181546_utr3_0_0_chr1_192891234_r</td>\n",
       "      <td>0</td>\n",
       "      <td>-</td>\n",
       "    </tr>\n",
       "    <tr>\n",
       "      <th>22</th>\n",
       "      <td>chr1</td>\n",
       "      <td>184527840</td>\n",
       "      <td>184528070</td>\n",
       "      <td>NR_040472_utr3_0_0_chr1_184527841_r</td>\n",
       "      <td>0</td>\n",
       "      <td>-</td>\n",
       "    </tr>\n",
       "    <tr>\n",
       "      <th>23</th>\n",
       "      <td>chr1</td>\n",
       "      <td>184528836</td>\n",
       "      <td>184529068</td>\n",
       "      <td>NR_040472_utr3_1_0_chr1_184528837_r</td>\n",
       "      <td>0</td>\n",
       "      <td>-</td>\n",
       "    </tr>\n",
       "    <tr>\n",
       "      <th>24</th>\n",
       "      <td>chr1</td>\n",
       "      <td>184530084</td>\n",
       "      <td>184530165</td>\n",
       "      <td>NR_040472_utr3_2_0_chr1_184530085_r</td>\n",
       "      <td>0</td>\n",
       "      <td>-</td>\n",
       "    </tr>\n",
       "    <tr>\n",
       "      <th>25</th>\n",
       "      <td>chr1</td>\n",
       "      <td>184531703</td>\n",
       "      <td>184531814</td>\n",
       "      <td>NR_040472_utr3_3_0_chr1_184531704_r</td>\n",
       "      <td>0</td>\n",
       "      <td>-</td>\n",
       "    </tr>\n",
       "    <tr>\n",
       "      <th>26</th>\n",
       "      <td>chr1</td>\n",
       "      <td>184554368</td>\n",
       "      <td>184554413</td>\n",
       "      <td>NR_040472_utr3_4_0_chr1_184554369_r</td>\n",
       "      <td>0</td>\n",
       "      <td>-</td>\n",
       "    </tr>\n",
       "    <tr>\n",
       "      <th>27</th>\n",
       "      <td>chr1</td>\n",
       "      <td>184557612</td>\n",
       "      <td>184557691</td>\n",
       "      <td>NR_040472_utr3_5_0_chr1_184557613_r</td>\n",
       "      <td>0</td>\n",
       "      <td>-</td>\n",
       "    </tr>\n",
       "    <tr>\n",
       "      <th>28</th>\n",
       "      <td>chr1</td>\n",
       "      <td>11596984</td>\n",
       "      <td>11601821</td>\n",
       "      <td>NM_001160371_utr3_7_0_chr1_11596985_f</td>\n",
       "      <td>0</td>\n",
       "      <td>+</td>\n",
       "    </tr>\n",
       "    <tr>\n",
       "      <th>29</th>\n",
       "      <td>chr1</td>\n",
       "      <td>10324718</td>\n",
       "      <td>10325123</td>\n",
       "      <td>NM_001289497_utr3_0_0_chr1_10324719_r</td>\n",
       "      <td>0</td>\n",
       "      <td>-</td>\n",
       "    </tr>\n",
       "    <tr>\n",
       "      <th>...</th>\n",
       "      <td>...</td>\n",
       "      <td>...</td>\n",
       "      <td>...</td>\n",
       "      <td>...</td>\n",
       "      <td>...</td>\n",
       "      <td>...</td>\n",
       "    </tr>\n",
       "    <tr>\n",
       "      <th>39185</th>\n",
       "      <td>chr4_JH584294_random</td>\n",
       "      <td>3786</td>\n",
       "      <td>3814</td>\n",
       "      <td>NM_001164046_utr3_2_0_chr4_JH584294_random_3787_f</td>\n",
       "      <td>0</td>\n",
       "      <td>+</td>\n",
       "    </tr>\n",
       "    <tr>\n",
       "      <th>39186</th>\n",
       "      <td>chr4_JH584294_random</td>\n",
       "      <td>3083</td>\n",
       "      <td>4163</td>\n",
       "      <td>NM_010550_utr3_0_0_chr4_JH584294_random_3084_r</td>\n",
       "      <td>0</td>\n",
       "      <td>-</td>\n",
       "    </tr>\n",
       "    <tr>\n",
       "      <th>39187</th>\n",
       "      <td>chr4_JH584294_random</td>\n",
       "      <td>3786</td>\n",
       "      <td>3814</td>\n",
       "      <td>NM_001199966_utr3_2_0_chr4_JH584294_random_3787_f</td>\n",
       "      <td>0</td>\n",
       "      <td>+</td>\n",
       "    </tr>\n",
       "    <tr>\n",
       "      <th>39188</th>\n",
       "      <td>chr4_JH584294_random</td>\n",
       "      <td>120654</td>\n",
       "      <td>121047</td>\n",
       "      <td>NM_011124_utr3_0_0_chr4_JH584294_random_120655_r</td>\n",
       "      <td>0</td>\n",
       "      <td>-</td>\n",
       "    </tr>\n",
       "    <tr>\n",
       "      <th>39189</th>\n",
       "      <td>chr4_JH584294_random</td>\n",
       "      <td>3786</td>\n",
       "      <td>3814</td>\n",
       "      <td>NM_001199960_utr3_2_0_chr4_JH584294_random_3787_f</td>\n",
       "      <td>0</td>\n",
       "      <td>+</td>\n",
       "    </tr>\n",
       "    <tr>\n",
       "      <th>39190</th>\n",
       "      <td>chr5_GL456354_random</td>\n",
       "      <td>82563</td>\n",
       "      <td>82992</td>\n",
       "      <td>NM_001122668_utr3_0_0_chr5_GL456354_random_825...</td>\n",
       "      <td>0</td>\n",
       "      <td>-</td>\n",
       "    </tr>\n",
       "    <tr>\n",
       "      <th>39191</th>\n",
       "      <td>chr5_GL456354_random</td>\n",
       "      <td>82558</td>\n",
       "      <td>82992</td>\n",
       "      <td>NM_001122678_utr3_0_0_chr5_GL456354_random_825...</td>\n",
       "      <td>0</td>\n",
       "      <td>-</td>\n",
       "    </tr>\n",
       "    <tr>\n",
       "      <th>39192</th>\n",
       "      <td>chr5_GL456354_random</td>\n",
       "      <td>82558</td>\n",
       "      <td>82992</td>\n",
       "      <td>NM_001167793_utr3_0_0_chr5_GL456354_random_825...</td>\n",
       "      <td>0</td>\n",
       "      <td>-</td>\n",
       "    </tr>\n",
       "    <tr>\n",
       "      <th>39193</th>\n",
       "      <td>chr5_GL456354_random</td>\n",
       "      <td>8939</td>\n",
       "      <td>9462</td>\n",
       "      <td>NM_177913_utr3_3_0_chr5_GL456354_random_8940_f</td>\n",
       "      <td>0</td>\n",
       "      <td>+</td>\n",
       "    </tr>\n",
       "    <tr>\n",
       "      <th>39194</th>\n",
       "      <td>chr5_GL456354_random</td>\n",
       "      <td>161339</td>\n",
       "      <td>161386</td>\n",
       "      <td>NM_001270457_utr3_3_0_chr5_GL456354_random_161...</td>\n",
       "      <td>0</td>\n",
       "      <td>+</td>\n",
       "    </tr>\n",
       "    <tr>\n",
       "      <th>39195</th>\n",
       "      <td>chr5_GL456354_random</td>\n",
       "      <td>161339</td>\n",
       "      <td>161386</td>\n",
       "      <td>NM_198667_utr3_3_0_chr5_GL456354_random_161340_f</td>\n",
       "      <td>0</td>\n",
       "      <td>+</td>\n",
       "    </tr>\n",
       "    <tr>\n",
       "      <th>39196</th>\n",
       "      <td>chr5_JH584296_random</td>\n",
       "      <td>40898</td>\n",
       "      <td>41337</td>\n",
       "      <td>NM_001243937_utr3_0_0_chr5_JH584296_random_408...</td>\n",
       "      <td>0</td>\n",
       "      <td>-</td>\n",
       "    </tr>\n",
       "    <tr>\n",
       "      <th>39197</th>\n",
       "      <td>chr5_JH584296_random</td>\n",
       "      <td>40898</td>\n",
       "      <td>41337</td>\n",
       "      <td>NM_001243938_utr3_0_0_chr5_JH584296_random_408...</td>\n",
       "      <td>0</td>\n",
       "      <td>-</td>\n",
       "    </tr>\n",
       "    <tr>\n",
       "      <th>39198</th>\n",
       "      <td>chr5_JH584297_random</td>\n",
       "      <td>107878</td>\n",
       "      <td>108317</td>\n",
       "      <td>NM_001243938_utr3_0_0_chr5_JH584297_random_107...</td>\n",
       "      <td>0</td>\n",
       "      <td>-</td>\n",
       "    </tr>\n",
       "    <tr>\n",
       "      <th>39199</th>\n",
       "      <td>chr5_JH584297_random</td>\n",
       "      <td>107878</td>\n",
       "      <td>108317</td>\n",
       "      <td>NM_001243937_utr3_0_0_chr5_JH584297_random_107...</td>\n",
       "      <td>0</td>\n",
       "      <td>-</td>\n",
       "    </tr>\n",
       "    <tr>\n",
       "      <th>39200</th>\n",
       "      <td>chr5_JH584298_random</td>\n",
       "      <td>93623</td>\n",
       "      <td>94919</td>\n",
       "      <td>NM_001200055_utr3_3_0_chr5_JH584298_random_936...</td>\n",
       "      <td>0</td>\n",
       "      <td>+</td>\n",
       "    </tr>\n",
       "    <tr>\n",
       "      <th>39201</th>\n",
       "      <td>chr5_JH584298_random</td>\n",
       "      <td>93623</td>\n",
       "      <td>94066</td>\n",
       "      <td>NM_001031622_utr3_3_0_chr5_JH584298_random_936...</td>\n",
       "      <td>0</td>\n",
       "      <td>+</td>\n",
       "    </tr>\n",
       "    <tr>\n",
       "      <th>39202</th>\n",
       "      <td>chr5_JH584298_random</td>\n",
       "      <td>167741</td>\n",
       "      <td>168264</td>\n",
       "      <td>NM_177913_utr3_0_0_chr5_JH584298_random_167742_r</td>\n",
       "      <td>0</td>\n",
       "      <td>-</td>\n",
       "    </tr>\n",
       "    <tr>\n",
       "      <th>39203</th>\n",
       "      <td>chr5_JH584299_random</td>\n",
       "      <td>176134</td>\n",
       "      <td>177430</td>\n",
       "      <td>NM_001200055_utr3_3_0_chr5_JH584299_random_176...</td>\n",
       "      <td>0</td>\n",
       "      <td>+</td>\n",
       "    </tr>\n",
       "    <tr>\n",
       "      <th>39204</th>\n",
       "      <td>chr5_JH584299_random</td>\n",
       "      <td>176134</td>\n",
       "      <td>176577</td>\n",
       "      <td>NM_001031622_utr3_3_0_chr5_JH584299_random_176...</td>\n",
       "      <td>0</td>\n",
       "      <td>+</td>\n",
       "    </tr>\n",
       "    <tr>\n",
       "      <th>39205</th>\n",
       "      <td>chr5_JH584299_random</td>\n",
       "      <td>480331</td>\n",
       "      <td>480774</td>\n",
       "      <td>NM_001031622_utr3_3_0_chr5_JH584299_random_480...</td>\n",
       "      <td>0</td>\n",
       "      <td>+</td>\n",
       "    </tr>\n",
       "    <tr>\n",
       "      <th>39206</th>\n",
       "      <td>chr5_JH584299_random</td>\n",
       "      <td>809281</td>\n",
       "      <td>809724</td>\n",
       "      <td>NM_001031622_utr3_3_0_chr5_JH584299_random_809...</td>\n",
       "      <td>0</td>\n",
       "      <td>+</td>\n",
       "    </tr>\n",
       "    <tr>\n",
       "      <th>39207</th>\n",
       "      <td>chr5_JH584299_random</td>\n",
       "      <td>840451</td>\n",
       "      <td>841747</td>\n",
       "      <td>NM_001200055_utr3_3_0_chr5_JH584299_random_840...</td>\n",
       "      <td>0</td>\n",
       "      <td>+</td>\n",
       "    </tr>\n",
       "    <tr>\n",
       "      <th>39208</th>\n",
       "      <td>chr5_JH584299_random</td>\n",
       "      <td>840451</td>\n",
       "      <td>840894</td>\n",
       "      <td>NM_001031622_utr3_3_0_chr5_JH584299_random_840...</td>\n",
       "      <td>0</td>\n",
       "      <td>+</td>\n",
       "    </tr>\n",
       "    <tr>\n",
       "      <th>39209</th>\n",
       "      <td>chr7_GL456219_random</td>\n",
       "      <td>93810</td>\n",
       "      <td>94185</td>\n",
       "      <td>NM_030741_utr3_0_0_chr7_GL456219_random_93811_r</td>\n",
       "      <td>0</td>\n",
       "      <td>-</td>\n",
       "    </tr>\n",
       "    <tr>\n",
       "      <th>39210</th>\n",
       "      <td>chr7_GL456219_random</td>\n",
       "      <td>148880</td>\n",
       "      <td>149260</td>\n",
       "      <td>NM_030742_utr3_0_0_chr7_GL456219_random_148881_r</td>\n",
       "      <td>0</td>\n",
       "      <td>-</td>\n",
       "    </tr>\n",
       "    <tr>\n",
       "      <th>39211</th>\n",
       "      <td>chrX_GL456233_random</td>\n",
       "      <td>333326</td>\n",
       "      <td>334187</td>\n",
       "      <td>NM_138758_utr3_7_0_chrX_GL456233_random_333327_f</td>\n",
       "      <td>0</td>\n",
       "      <td>+</td>\n",
       "    </tr>\n",
       "    <tr>\n",
       "      <th>39212</th>\n",
       "      <td>chrX_GL456233_random</td>\n",
       "      <td>101351</td>\n",
       "      <td>104589</td>\n",
       "      <td>NM_001030293_utr3_0_0_chrX_GL456233_random_101...</td>\n",
       "      <td>0</td>\n",
       "      <td>-</td>\n",
       "    </tr>\n",
       "    <tr>\n",
       "      <th>39213</th>\n",
       "      <td>chrX_GL456233_random</td>\n",
       "      <td>10736</td>\n",
       "      <td>12475</td>\n",
       "      <td>NM_011515_utr3_0_0_chrX_GL456233_random_10737_r</td>\n",
       "      <td>0</td>\n",
       "      <td>-</td>\n",
       "    </tr>\n",
       "    <tr>\n",
       "      <th>39214</th>\n",
       "      <td>chrX_GL456233_random</td>\n",
       "      <td>10736</td>\n",
       "      <td>12475</td>\n",
       "      <td>NM_001302138_utr3_0_0_chrX_GL456233_random_107...</td>\n",
       "      <td>0</td>\n",
       "      <td>-</td>\n",
       "    </tr>\n",
       "  </tbody>\n",
       "</table>\n",
       "<p>39215 rows × 6 columns</p>\n",
       "</div>"
      ],
      "text/plain": [
       "                      chrom      start       stop  \\\n",
       "0                      chr1  134199214  134202950   \n",
       "1                      chr1  134199214  134202950   \n",
       "2                      chr1  134199214  134202950   \n",
       "3                      chr1  134199214  134202950   \n",
       "4                      chr1  134199214  134202950   \n",
       "5                      chr1    8359738    8363474   \n",
       "6                      chr1    8359738    8363474   \n",
       "7                      chr1    8359738    8363474   \n",
       "8                      chr1    8359738    8363474   \n",
       "9                      chr1   58753922   58759209   \n",
       "10                     chr1   58753922   58759209   \n",
       "11                     chr1   33453807   33454085   \n",
       "12                     chr1   58732362   58733227   \n",
       "13                     chr1   25067475   25068167   \n",
       "14                     chr1   58753922   58759209   \n",
       "15                     chr1  125872884  125873861   \n",
       "16                     chr1   75485824   75485951   \n",
       "17                     chr1  167846761  167848733   \n",
       "18                     chr1  175962305  175963827   \n",
       "19                     chr1  192891233  192897306   \n",
       "20                     chr1  175962305  175963827   \n",
       "21                     chr1  192891233  192897306   \n",
       "22                     chr1  184527840  184528070   \n",
       "23                     chr1  184528836  184529068   \n",
       "24                     chr1  184530084  184530165   \n",
       "25                     chr1  184531703  184531814   \n",
       "26                     chr1  184554368  184554413   \n",
       "27                     chr1  184557612  184557691   \n",
       "28                     chr1   11596984   11601821   \n",
       "29                     chr1   10324718   10325123   \n",
       "...                     ...        ...        ...   \n",
       "39185  chr4_JH584294_random       3786       3814   \n",
       "39186  chr4_JH584294_random       3083       4163   \n",
       "39187  chr4_JH584294_random       3786       3814   \n",
       "39188  chr4_JH584294_random     120654     121047   \n",
       "39189  chr4_JH584294_random       3786       3814   \n",
       "39190  chr5_GL456354_random      82563      82992   \n",
       "39191  chr5_GL456354_random      82558      82992   \n",
       "39192  chr5_GL456354_random      82558      82992   \n",
       "39193  chr5_GL456354_random       8939       9462   \n",
       "39194  chr5_GL456354_random     161339     161386   \n",
       "39195  chr5_GL456354_random     161339     161386   \n",
       "39196  chr5_JH584296_random      40898      41337   \n",
       "39197  chr5_JH584296_random      40898      41337   \n",
       "39198  chr5_JH584297_random     107878     108317   \n",
       "39199  chr5_JH584297_random     107878     108317   \n",
       "39200  chr5_JH584298_random      93623      94919   \n",
       "39201  chr5_JH584298_random      93623      94066   \n",
       "39202  chr5_JH584298_random     167741     168264   \n",
       "39203  chr5_JH584299_random     176134     177430   \n",
       "39204  chr5_JH584299_random     176134     176577   \n",
       "39205  chr5_JH584299_random     480331     480774   \n",
       "39206  chr5_JH584299_random     809281     809724   \n",
       "39207  chr5_JH584299_random     840451     841747   \n",
       "39208  chr5_JH584299_random     840451     840894   \n",
       "39209  chr7_GL456219_random      93810      94185   \n",
       "39210  chr7_GL456219_random     148880     149260   \n",
       "39211  chrX_GL456233_random     333326     334187   \n",
       "39212  chrX_GL456233_random     101351     104589   \n",
       "39213  chrX_GL456233_random      10736      12475   \n",
       "39214  chrX_GL456233_random      10736      12475   \n",
       "\n",
       "                                                    name  score strand  \n",
       "0                 NM_001282945_utr3_0_0_chr1_134199215_r      0      -  \n",
       "1                 NM_001039510_utr3_0_0_chr1_134199215_r      0      -  \n",
       "2                 NM_001291930_utr3_0_0_chr1_134199215_r      0      -  \n",
       "3                 NM_001291928_utr3_0_0_chr1_134199215_r      0      -  \n",
       "4                 NM_001008533_utr3_0_0_chr1_134199215_r      0      -  \n",
       "5                      NM_027671_utr3_0_0_chr1_8359739_r      0      -  \n",
       "6                   NM_001290393_utr3_0_0_chr1_8359739_r      0      -  \n",
       "7                   NM_001290392_utr3_0_0_chr1_8359739_r      0      -  \n",
       "8                   NM_001290390_utr3_0_0_chr1_8359739_r      0      -  \n",
       "9                  NM_001289704_utr3_9_0_chr1_58753923_f      0      +  \n",
       "10                 NM_001293804_utr3_9_0_chr1_58753923_f      0      +  \n",
       "11                    NM_008922_utr3_0_0_chr1_33453808_r      0      -  \n",
       "12                    NM_009805_utr3_4_0_chr1_58732363_f      0      +  \n",
       "13                    NM_175642_utr3_0_0_chr1_25067476_r      0      -  \n",
       "14                    NM_207653_utr3_9_0_chr1_58753923_f      0      +  \n",
       "15                   NM_027677_utr3_1_0_chr1_125872885_f      0      +  \n",
       "16                    NM_178884_utr3_0_0_chr1_75485825_r      0      -  \n",
       "17                   NM_033652_utr3_7_0_chr1_167846762_f      0      +  \n",
       "18                   NM_176916_utr3_0_0_chr1_175962306_r      0      -  \n",
       "19                NM_001301370_utr3_0_0_chr1_192891234_r      0      -  \n",
       "20                NM_001195816_utr3_0_0_chr1_175962306_r      0      -  \n",
       "21                   NM_181546_utr3_0_0_chr1_192891234_r      0      -  \n",
       "22                   NR_040472_utr3_0_0_chr1_184527841_r      0      -  \n",
       "23                   NR_040472_utr3_1_0_chr1_184528837_r      0      -  \n",
       "24                   NR_040472_utr3_2_0_chr1_184530085_r      0      -  \n",
       "25                   NR_040472_utr3_3_0_chr1_184531704_r      0      -  \n",
       "26                   NR_040472_utr3_4_0_chr1_184554369_r      0      -  \n",
       "27                   NR_040472_utr3_5_0_chr1_184557613_r      0      -  \n",
       "28                 NM_001160371_utr3_7_0_chr1_11596985_f      0      +  \n",
       "29                 NM_001289497_utr3_0_0_chr1_10324719_r      0      -  \n",
       "...                                                  ...    ...    ...  \n",
       "39185  NM_001164046_utr3_2_0_chr4_JH584294_random_3787_f      0      +  \n",
       "39186     NM_010550_utr3_0_0_chr4_JH584294_random_3084_r      0      -  \n",
       "39187  NM_001199966_utr3_2_0_chr4_JH584294_random_3787_f      0      +  \n",
       "39188   NM_011124_utr3_0_0_chr4_JH584294_random_120655_r      0      -  \n",
       "39189  NM_001199960_utr3_2_0_chr4_JH584294_random_3787_f      0      +  \n",
       "39190  NM_001122668_utr3_0_0_chr5_GL456354_random_825...      0      -  \n",
       "39191  NM_001122678_utr3_0_0_chr5_GL456354_random_825...      0      -  \n",
       "39192  NM_001167793_utr3_0_0_chr5_GL456354_random_825...      0      -  \n",
       "39193     NM_177913_utr3_3_0_chr5_GL456354_random_8940_f      0      +  \n",
       "39194  NM_001270457_utr3_3_0_chr5_GL456354_random_161...      0      +  \n",
       "39195   NM_198667_utr3_3_0_chr5_GL456354_random_161340_f      0      +  \n",
       "39196  NM_001243937_utr3_0_0_chr5_JH584296_random_408...      0      -  \n",
       "39197  NM_001243938_utr3_0_0_chr5_JH584296_random_408...      0      -  \n",
       "39198  NM_001243938_utr3_0_0_chr5_JH584297_random_107...      0      -  \n",
       "39199  NM_001243937_utr3_0_0_chr5_JH584297_random_107...      0      -  \n",
       "39200  NM_001200055_utr3_3_0_chr5_JH584298_random_936...      0      +  \n",
       "39201  NM_001031622_utr3_3_0_chr5_JH584298_random_936...      0      +  \n",
       "39202   NM_177913_utr3_0_0_chr5_JH584298_random_167742_r      0      -  \n",
       "39203  NM_001200055_utr3_3_0_chr5_JH584299_random_176...      0      +  \n",
       "39204  NM_001031622_utr3_3_0_chr5_JH584299_random_176...      0      +  \n",
       "39205  NM_001031622_utr3_3_0_chr5_JH584299_random_480...      0      +  \n",
       "39206  NM_001031622_utr3_3_0_chr5_JH584299_random_809...      0      +  \n",
       "39207  NM_001200055_utr3_3_0_chr5_JH584299_random_840...      0      +  \n",
       "39208  NM_001031622_utr3_3_0_chr5_JH584299_random_840...      0      +  \n",
       "39209    NM_030741_utr3_0_0_chr7_GL456219_random_93811_r      0      -  \n",
       "39210   NM_030742_utr3_0_0_chr7_GL456219_random_148881_r      0      -  \n",
       "39211   NM_138758_utr3_7_0_chrX_GL456233_random_333327_f      0      +  \n",
       "39212  NM_001030293_utr3_0_0_chrX_GL456233_random_101...      0      -  \n",
       "39213    NM_011515_utr3_0_0_chrX_GL456233_random_10737_r      0      -  \n",
       "39214  NM_001302138_utr3_0_0_chrX_GL456233_random_107...      0      -  \n",
       "\n",
       "[39215 rows x 6 columns]"
      ]
     },
     "execution_count": 3,
     "metadata": {},
     "output_type": "execute_result"
    }
   ],
   "source": [
    "\n"
   ]
  },
  {
   "cell_type": "code",
   "execution_count": null,
   "metadata": {
    "collapsed": true
   },
   "outputs": [],
   "source": []
  }
 ],
 "metadata": {
  "anaconda-cloud": {},
  "kernelspec": {
   "display_name": "Python 2",
   "language": "python",
   "name": "python2"
  },
  "language_info": {
   "codemirror_mode": {
    "name": "ipython",
    "version": 2
   },
   "file_extension": ".py",
   "mimetype": "text/x-python",
   "name": "python",
   "nbconvert_exporter": "python",
   "pygments_lexer": "ipython2",
   "version": "2.7.15"
  },
  "widgets": {
   "state": {
    "0cd31691757e4a8189462ae1ae0890be": {
     "views": [
      {
       "cell_index": 1
      }
     ]
    },
    "25dc9ea8041546dc8fe07b6789d18d36": {
     "views": [
      {
       "cell_index": 1
      }
     ]
    },
    "4565705712964ccc96bd37ed327e4f53": {
     "views": [
      {
       "cell_index": 1
      }
     ]
    },
    "4eec7e54ed5c47528d65d8e58b778372": {
     "views": [
      {
       "cell_index": 1
      }
     ]
    },
    "5e68ef1c77d541f796870eccbd3752c0": {
     "views": [
      {
       "cell_index": 1
      }
     ]
    },
    "6161a72cf5fc45cdab316bbb5d1f06c7": {
     "views": [
      {
       "cell_index": 1
      }
     ]
    },
    "6875321b916f4278b433301d799cb618": {
     "views": [
      {
       "cell_index": 1
      }
     ]
    },
    "7b8ec6fa2d814743b9342514b97525ee": {
     "views": [
      {
       "cell_index": 1
      }
     ]
    },
    "7ff33de8d53a452c94373a874c5d2d67": {
     "views": [
      {
       "cell_index": 1
      }
     ]
    },
    "824865f4bb8e40f2b8c175702af08024": {
     "views": [
      {
       "cell_index": 1
      }
     ]
    },
    "8bc7f351522f4d098391b52b264cc9da": {
     "views": [
      {
       "cell_index": 1
      }
     ]
    },
    "8d4fd59f5fd24c6a8bae84bd0526571a": {
     "views": [
      {
       "cell_index": 1
      }
     ]
    },
    "98d1b5d44718479885655a0f2f927bb2": {
     "views": [
      {
       "cell_index": 1
      }
     ]
    },
    "ac6ff2a7f41240c6a932caa21c1f9281": {
     "views": [
      {
       "cell_index": 1
      }
     ]
    },
    "cabedf5ff7c948008e165810e719199f": {
     "views": [
      {
       "cell_index": 1
      }
     ]
    },
    "d5f83c4420764a0287d24ed05c6737e1": {
     "views": [
      {
       "cell_index": 1
      }
     ]
    },
    "d75240249a3d42d4887e21cea0932d0b": {
     "views": [
      {
       "cell_index": 1
      }
     ]
    },
    "d9ac2d4646914aa6b6426df4aba6b961": {
     "views": [
      {
       "cell_index": 1
      }
     ]
    },
    "ec509d96b5b543869108a968fe9c14ba": {
     "views": [
      {
       "cell_index": 1
      }
     ]
    },
    "ef8d485f82864a2db68c4298cf8bede0": {
     "views": [
      {
       "cell_index": 1
      }
     ]
    }
   },
   "version": "1.2.0"
  }
 },
 "nbformat": 4,
 "nbformat_minor": 2
}
