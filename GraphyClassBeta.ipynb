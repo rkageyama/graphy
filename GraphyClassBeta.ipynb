{
 "cells": [
  {
   "cell_type": "code",
   "execution_count": null,
   "metadata": {
    "collapsed": true
   },
   "outputs": [],
   "source": []
  },
  {
   "cell_type": "code",
   "execution_count": 1,
   "metadata": {},
   "outputs": [],
   "source": [
    "from matplotlib import pyplot as plt\n",
    "%matplotlib inline\n"
   ]
  },
  {
   "cell_type": "code",
   "execution_count": 2,
   "metadata": {},
   "outputs": [],
   "source": [
    "%load_ext autoreload"
   ]
  },
  {
   "cell_type": "code",
   "execution_count": 3,
   "metadata": {},
   "outputs": [],
   "source": [
    "%autoreload \n",
    "%run ClipPlot_Widgets.py"
   ]
  },
  {
   "cell_type": "code",
   "execution_count": null,
   "metadata": {},
   "outputs": [],
   "source": []
  },
  {
   "cell_type": "code",
   "execution_count": null,
   "metadata": {},
   "outputs": [],
   "source": []
  },
  {
   "cell_type": "code",
   "execution_count": null,
   "metadata": {
    "collapsed": true
   },
   "outputs": [],
   "source": []
  },
  {
   "cell_type": "code",
   "execution_count": null,
   "metadata": {
    "collapsed": true
   },
   "outputs": [],
   "source": []
  },
  {
   "cell_type": "code",
   "execution_count": null,
   "metadata": {
    "collapsed": true
   },
   "outputs": [],
   "source": []
  },
  {
   "cell_type": "code",
   "execution_count": null,
   "metadata": {
    "collapsed": true
   },
   "outputs": [],
   "source": []
  },
  {
   "cell_type": "code",
   "execution_count": null,
   "metadata": {
    "collapsed": true
   },
   "outputs": [],
   "source": []
  },
  {
   "cell_type": "code",
   "execution_count": null,
   "metadata": {
    "collapsed": true
   },
   "outputs": [],
   "source": []
  },
  {
   "cell_type": "code",
   "execution_count": null,
   "metadata": {
    "collapsed": true
   },
   "outputs": [],
   "source": []
  },
  {
   "cell_type": "code",
   "execution_count": null,
   "metadata": {
    "collapsed": true
   },
   "outputs": [],
   "source": []
  },
  {
   "cell_type": "code",
   "execution_count": 4,
   "metadata": {},
   "outputs": [],
   "source": [
    "def i(**kwargs):\n",
    "    print kwargs"
   ]
  },
  {
   "cell_type": "code",
   "execution_count": 5,
   "metadata": {},
   "outputs": [],
   "source": [
    "from operator import itemgetter\n",
    "\n",
    "%matplotlib inline"
   ]
  },
  {
   "cell_type": "code",
   "execution_count": 6,
   "metadata": {},
   "outputs": [],
   "source": [
    "def graph_bed(bedfile,bedtype,name,chrom,start,stop,strand,stagger = False):\n",
    "    ''' \n",
    "    Graphs region tracks across a defined region\n",
    "\n",
    "    Parameters\n",
    "    ----------\n",
    "    bedfile: File (bed formatted)\n",
    "    bedtype: string\n",
    "        Based on kind of format of bed:\n",
    "        targetscan: \"chrom\",\"start\",\"stop\",\"miRNA\",\"score\",\"s2\",\"st2\",\"color\"\n",
    "        custom: \"chrom\",\"start\",\"stop\",\"miRNA\",\"zero\",\"strand\",\"geneid\",\"extra\"\n",
    "        bed: \"chrom\",\"start\",\"stop\",\"geneid\",\"zero\",\"strand\"\n",
    "    name: str\n",
    "    chrom: str\n",
    "    start: int\n",
    "    stop: int\n",
    "    strand: int\n",
    "    stagger: Bool\n",
    "        Set true if you have a lot of overlapping regions and want them separated.\n",
    "\n",
    "    '''\n",
    "\n",
    "    if bedtype==\"targetscan\":\n",
    "        beddb = pd.read_table(bedfile,names=[\"chrom\",\"start\",\"stop\",\"miRNA\"],usecols=[0,1,2,3])\n",
    "        beddb_chrom = beddb[beddb.chrom==chrom]\n",
    "        beddb_local = beddb_chrom[[(beddb_chrom.loc[i].start > start) and (beddb_chrom.loc[i].stop < stop) for i in beddb_chrom.index ]]\n",
    "        beddb_regions = beddb_local[beddb_local.miRNA==name]\n",
    "        labels = beddb_regions.miRNA\n",
    "    if bedtype==\"custom\":\n",
    "        beddb = pd.read_table(bedfile,names=[\"chrom\",\"start\",\"stop\",\"miRNA\",\"zero\",\"strand\",\"geneid\",\"extra\"])\n",
    "        beddb_chrom = beddb[beddb.chrom==chrom]\n",
    "        beddb_local = beddb_chrom[[(beddb_chrom.loc[i].start > start) and (beddb_chrom.loc[i].stop < stop) for i in beddb_chrom.index ]]\n",
    "        beddb_regions = beddb_local\n",
    "        labels = beddb_regions.miRNA\n",
    "    if bedtype==\"bed\":\n",
    "        beddb = pd.read_table(bedfile, names =[\"chrom\",\"start\",\"stop\",\"geneid\",\"zero\",\"strand\"])\n",
    "        beddb_chrom = beddb[beddb.chrom==chrom]\n",
    "        beddb_chrom = beddb[beddb.strand==strand]\n",
    "        beddb_local = beddb_chrom[[(beddb_chrom.loc[i].start > start) and (beddb_chrom.loc[i].stop < stop) for i in beddb_chrom.index ]]\n",
    "        beddb_regions = beddb_local\n",
    "        print beddb_regions\n",
    "        labels = beddb_regions.geneid\n",
    "    regions = [[beddb_regions.loc[i].start,beddb_regions.loc[i].stop] for i in beddb_regions.index]\n",
    "    regions = sorted(regions,key=itemgetter(0))\n",
    "    if stagger:\n",
    "        yvals = [[0,0],[1,1]]*(len(regions)/2) + ([[0,0]]*(len(regions)%2))\n",
    "        linewidth= 5\n",
    "    else:\n",
    "        yvals = [[0,0]] * len(regions)\n",
    "        linewidth= 10\n",
    "    for n,m in enumerate(regions):\n",
    "        plt.plot(m,yvals[n],linewidth=linewidth,color=\"#092A59\",solid_capstyle=\"butt\")\n",
    "    return regions,labels\n"
   ]
  },
  {
   "cell_type": "code",
   "execution_count": 7,
   "metadata": {},
   "outputs": [
    {
     "ename": "NameError",
     "evalue": "global name 'pd' is not defined",
     "output_type": "error",
     "traceback": [
      "\u001b[0;31m---------------------------------------------------------------------------\u001b[0m",
      "\u001b[0;31mNameError\u001b[0m                                 Traceback (most recent call last)",
      "\u001b[0;32m<ipython-input-7-20d71a359626>\u001b[0m in \u001b[0;36m<module>\u001b[0;34m()\u001b[0m\n\u001b[1;32m      7\u001b[0m \u001b[0mstrand\u001b[0m \u001b[0;34m=\u001b[0m \u001b[0;34m'-'\u001b[0m\u001b[0;34m\u001b[0m\u001b[0m\n\u001b[1;32m      8\u001b[0m \u001b[0mstaggerbed\u001b[0m\u001b[0;34m=\u001b[0m\u001b[0mFalse\u001b[0m\u001b[0;34m\u001b[0m\u001b[0m\n\u001b[0;32m----> 9\u001b[0;31m \u001b[0mbedregions\u001b[0m\u001b[0;34m,\u001b[0m\u001b[0mbedlabels\u001b[0m \u001b[0;34m=\u001b[0m\u001b[0mgraph_bed\u001b[0m\u001b[0;34m(\u001b[0m\u001b[0mbedfile\u001b[0m\u001b[0;34m,\u001b[0m\u001b[0mbedtype\u001b[0m\u001b[0;34m,\u001b[0m\u001b[0mname\u001b[0m\u001b[0;34m,\u001b[0m\u001b[0mchrom\u001b[0m\u001b[0;34m,\u001b[0m\u001b[0mstart\u001b[0m\u001b[0;34m,\u001b[0m\u001b[0mstop\u001b[0m\u001b[0;34m,\u001b[0m\u001b[0mstrand\u001b[0m\u001b[0;34m,\u001b[0m\u001b[0mstagger\u001b[0m\u001b[0;34m=\u001b[0m\u001b[0mstaggerbed\u001b[0m\u001b[0;34m)\u001b[0m\u001b[0;34m\u001b[0m\u001b[0m\n\u001b[0m\u001b[1;32m     10\u001b[0m \u001b[0mplt\u001b[0m\u001b[0;34m.\u001b[0m\u001b[0mylabel\u001b[0m\u001b[0;34m(\u001b[0m\u001b[0mname\u001b[0m\u001b[0;34m,\u001b[0m\u001b[0mrotation\u001b[0m\u001b[0;34m=\u001b[0m\u001b[0;36m0\u001b[0m\u001b[0;34m,\u001b[0m\u001b[0mhorizontalalignment\u001b[0m\u001b[0;34m=\u001b[0m\u001b[0;34m\"right\"\u001b[0m\u001b[0;34m,\u001b[0m\u001b[0mverticalalignment\u001b[0m\u001b[0;34m=\u001b[0m\u001b[0;34m\"center\"\u001b[0m\u001b[0;34m)\u001b[0m\u001b[0;34m\u001b[0m\u001b[0m\n\u001b[1;32m     11\u001b[0m \u001b[0mplt\u001b[0m\u001b[0;34m.\u001b[0m\u001b[0mxlim\u001b[0m\u001b[0;34m(\u001b[0m\u001b[0mstart\u001b[0m\u001b[0;34m,\u001b[0m\u001b[0mstop\u001b[0m\u001b[0;34m)\u001b[0m\u001b[0;34m\u001b[0m\u001b[0m\n",
      "\u001b[0;32m<ipython-input-6-b646324e1d4d>\u001b[0m in \u001b[0;36mgraph_bed\u001b[0;34m(bedfile, bedtype, name, chrom, start, stop, strand, stagger)\u001b[0m\n\u001b[1;32m     34\u001b[0m         \u001b[0mlabels\u001b[0m \u001b[0;34m=\u001b[0m \u001b[0mbeddb_regions\u001b[0m\u001b[0;34m.\u001b[0m\u001b[0mmiRNA\u001b[0m\u001b[0;34m\u001b[0m\u001b[0m\n\u001b[1;32m     35\u001b[0m     \u001b[0;32mif\u001b[0m \u001b[0mbedtype\u001b[0m\u001b[0;34m==\u001b[0m\u001b[0;34m\"bed\"\u001b[0m\u001b[0;34m:\u001b[0m\u001b[0;34m\u001b[0m\u001b[0m\n\u001b[0;32m---> 36\u001b[0;31m         \u001b[0mbeddb\u001b[0m \u001b[0;34m=\u001b[0m \u001b[0mpd\u001b[0m\u001b[0;34m.\u001b[0m\u001b[0mread_table\u001b[0m\u001b[0;34m(\u001b[0m\u001b[0mbedfile\u001b[0m\u001b[0;34m,\u001b[0m \u001b[0mnames\u001b[0m \u001b[0;34m=\u001b[0m\u001b[0;34m[\u001b[0m\u001b[0;34m\"chrom\"\u001b[0m\u001b[0;34m,\u001b[0m\u001b[0;34m\"start\"\u001b[0m\u001b[0;34m,\u001b[0m\u001b[0;34m\"stop\"\u001b[0m\u001b[0;34m,\u001b[0m\u001b[0;34m\"geneid\"\u001b[0m\u001b[0;34m,\u001b[0m\u001b[0;34m\"zero\"\u001b[0m\u001b[0;34m,\u001b[0m\u001b[0;34m\"strand\"\u001b[0m\u001b[0;34m]\u001b[0m\u001b[0;34m)\u001b[0m\u001b[0;34m\u001b[0m\u001b[0m\n\u001b[0m\u001b[1;32m     37\u001b[0m         \u001b[0mbeddb_chrom\u001b[0m \u001b[0;34m=\u001b[0m \u001b[0mbeddb\u001b[0m\u001b[0;34m[\u001b[0m\u001b[0mbeddb\u001b[0m\u001b[0;34m.\u001b[0m\u001b[0mchrom\u001b[0m\u001b[0;34m==\u001b[0m\u001b[0mchrom\u001b[0m\u001b[0;34m]\u001b[0m\u001b[0;34m\u001b[0m\u001b[0m\n\u001b[1;32m     38\u001b[0m         \u001b[0mbeddb_chrom\u001b[0m \u001b[0;34m=\u001b[0m \u001b[0mbeddb\u001b[0m\u001b[0;34m[\u001b[0m\u001b[0mbeddb\u001b[0m\u001b[0;34m.\u001b[0m\u001b[0mstrand\u001b[0m\u001b[0;34m==\u001b[0m\u001b[0mstrand\u001b[0m\u001b[0;34m]\u001b[0m\u001b[0;34m\u001b[0m\u001b[0m\n",
      "\u001b[0;31mNameError\u001b[0m: global name 'pd' is not defined"
     ]
    }
   ],
   "source": [
    "bedfile = \"../genomes/refseq_3utr.bed\"\n",
    "bedtype = \"bed\"\n",
    "name=\"utr\"\n",
    "chrom = \"chr10\"\n",
    "start=18998369\n",
    "stop = 19006345\n",
    "strand = '-'\n",
    "staggerbed=False\n",
    "bedregions,bedlabels =graph_bed(bedfile,bedtype,name,chrom,start,stop,strand,stagger=staggerbed)\n",
    "plt.ylabel(name,rotation=0,horizontalalignment=\"right\",verticalalignment=\"center\")\n",
    "plt.xlim(start,stop)\n",
    "if staggerbed:\n",
    "    plt.ylim([-1,2])"
   ]
  },
  {
   "cell_type": "code",
   "execution_count": null,
   "metadata": {},
   "outputs": [],
   "source": [
    "x = graph_bed(bedfile,bedtype,name,chrom,start,stop,strand,stagger=staggerbed)\n"
   ]
  },
  {
   "cell_type": "code",
   "execution_count": null,
   "metadata": {},
   "outputs": [],
   "source": [
    "x = x[x.chrom==chrom]"
   ]
  },
  {
   "cell_type": "code",
   "execution_count": null,
   "metadata": {},
   "outputs": [],
   "source": [
    "x = x[x.strand==strand]\n"
   ]
  },
  {
   "cell_type": "code",
   "execution_count": null,
   "metadata": {},
   "outputs": [],
   "source": [
    "x[[(x.loc[i].start > start) and (x.loc[i].stop < stop) for i in x.index ]]"
   ]
  },
  {
   "cell_type": "code",
   "execution_count": null,
   "metadata": {},
   "outputs": [],
   "source": [
    "?plt.plot"
   ]
  },
  {
   "cell_type": "code",
   "execution_count": null,
   "metadata": {},
   "outputs": [],
   "source": [
    "cPlot.depths.apply(np.divide,args=(1,))"
   ]
  },
  {
   "cell_type": "code",
   "execution_count": null,
   "metadata": {},
   "outputs": [],
   "source": [
    "import subprocess\n",
    "import pandas as pd\n",
    "from StringIO import StringIO"
   ]
  },
  {
   "cell_type": "code",
   "execution_count": null,
   "metadata": {},
   "outputs": [],
   "source": [
    "sout,serr = subprocess.Popen((\"samtools\", \"idxstats\",cPlot.track_files[0]),stderr=subprocess.PIPE,stdout=subprocess.PIPE).communicate()"
   ]
  },
  {
   "cell_type": "code",
   "execution_count": null,
   "metadata": {},
   "outputs": [],
   "source": [
    "cPlot.track_names[0]"
   ]
  },
  {
   "cell_type": "code",
   "execution_count": null,
   "metadata": {},
   "outputs": [],
   "source": [
    "reads = pd.read_table(StringIO(sout),names=[\"chrom\",\"bases\",\"readsmapped\",\"readsunmapped\"])"
   ]
  },
  {
   "cell_type": "code",
   "execution_count": null,
   "metadata": {},
   "outputs": [],
   "source": [
    "reads.readsmapped.sum()"
   ]
  },
  {
   "cell_type": "code",
   "execution_count": null,
   "metadata": {
    "collapsed": true
   },
   "outputs": [],
   "source": [
    "import numpy as np"
   ]
  },
  {
   "cell_type": "code",
   "execution_count": null,
   "metadata": {},
   "outputs": [],
   "source": []
  },
  {
   "cell_type": "code",
   "execution_count": null,
   "metadata": {},
   "outputs": [],
   "source": [
    "ct.getSeed(ct.miRbase_reads(\"mmu-miR-29b-3p\",kind=\"sequence\"))"
   ]
  },
  {
   "cell_type": "code",
   "execution_count": null,
   "metadata": {
    "collapsed": true
   },
   "outputs": [],
   "source": []
  }
 ],
 "metadata": {
  "anaconda-cloud": {},
  "kernelspec": {
   "display_name": "Python 2",
   "language": "python",
   "name": "python2"
  },
  "language_info": {
   "codemirror_mode": {
    "name": "ipython",
    "version": 2
   },
   "file_extension": ".py",
   "mimetype": "text/x-python",
   "name": "python",
   "nbconvert_exporter": "python",
   "pygments_lexer": "ipython2",
   "version": "2.7.15"
  },
  "widgets": {
   "state": {
    "03f0c748587644a389ad408305ded989": {
     "views": [
      {
       "cell_index": 3
      }
     ]
    },
    "406e9eccf086421dbed172a3be0760df": {
     "views": [
      {
       "cell_index": 3
      }
     ]
    },
    "513fc7f7a58a449ca5b05dd19fc369d4": {
     "views": [
      {
       "cell_index": 3
      }
     ]
    },
    "5c10b8e0d696400dabb0b32016ab0623": {
     "views": [
      {
       "cell_index": 3
      }
     ]
    },
    "64889c97e0264c94a17fb7802bc79d26": {
     "views": [
      {
       "cell_index": 3
      }
     ]
    },
    "65a628b68aa8442ea8adfa0ef25b644b": {
     "views": [
      {
       "cell_index": 3
      }
     ]
    },
    "67545f31b0774b61a00151e54e33818a": {
     "views": [
      {
       "cell_index": 3
      }
     ]
    },
    "741398d761f542c2a67d1ac78a771d97": {
     "views": [
      {
       "cell_index": 3
      }
     ]
    },
    "75ec877e969244f89b79fef681b1cb9a": {
     "views": [
      {
       "cell_index": 3
      }
     ]
    },
    "87c0ec4f4cca417bbb02c696997a1b41": {
     "views": [
      {
       "cell_index": 3
      }
     ]
    },
    "9072054cc4a942c9a1541b69488e359e": {
     "views": [
      {
       "cell_index": 3
      }
     ]
    },
    "972eaacc093e40589dce7c450477ef84": {
     "views": [
      {
       "cell_index": 3
      }
     ]
    },
    "998fb05c03ed4edcb31fff67a7eb76be": {
     "views": [
      {
       "cell_index": 3
      }
     ]
    },
    "a40935bce81e46a295960393b95db871": {
     "views": [
      {
       "cell_index": 3
      }
     ]
    },
    "ad4578a2ce7241f396e1a612ecaff555": {
     "views": [
      {
       "cell_index": 3
      }
     ]
    },
    "c982a44d165847f9aaec202be130f43b": {
     "views": [
      {
       "cell_index": 3
      }
     ]
    },
    "edff7580570f453da31e713621f878f8": {
     "views": [
      {
       "cell_index": 3
      }
     ]
    },
    "f6dfcc6338b942b18c9d4f7bd2f4bdd9": {
     "views": [
      {
       "cell_index": 3
      }
     ]
    },
    "f9e428eedd504bbb8f1b05700bf34612": {
     "views": [
      {
       "cell_index": 3
      }
     ]
    }
   },
   "version": "1.2.0"
  }
 },
 "nbformat": 4,
 "nbformat_minor": 2
}
